{
 "cells": [
  {
   "cell_type": "code",
   "execution_count": 1,
   "metadata": {},
   "outputs": [],
   "source": [
    "s1=\"I am learning python\"\n",
    "s2=\"i am Learning java\"\n",
    "s3=\"virat kohali is a player\"\n",
    "\n",
    "corpus=[s1,s2,s3]\n"
   ]
  },
  {
   "cell_type": "code",
   "execution_count": 2,
   "metadata": {},
   "outputs": [],
   "source": [
    "from sklearn.feature_extraction.text import TfidfVectorizer"
   ]
  },
  {
   "cell_type": "code",
   "execution_count": 3,
   "metadata": {},
   "outputs": [],
   "source": [
    "tv=TfidfVectorizer(lowercase=True,stop_words=\"english\")\n",
    "X=tv.fit_transform(corpus).toarray()"
   ]
  },
  {
   "cell_type": "code",
   "execution_count": 4,
   "metadata": {},
   "outputs": [
    {
     "data": {
      "text/plain": [
       "array([[0.        , 0.        , 0.60534851, 0.        , 0.79596054,\n",
       "        0.        ],\n",
       "       [0.79596054, 0.        , 0.60534851, 0.        , 0.        ,\n",
       "        0.        ],\n",
       "       [0.        , 0.57735027, 0.        , 0.57735027, 0.        ,\n",
       "        0.57735027]])"
      ]
     },
     "execution_count": 4,
     "metadata": {},
     "output_type": "execute_result"
    }
   ],
   "source": [
    "X"
   ]
  },
  {
   "cell_type": "code",
   "execution_count": 7,
   "metadata": {},
   "outputs": [],
   "source": [
    "from sklearn.metrics.pairwise import cosine_similarity,cosine_distances"
   ]
  },
  {
   "cell_type": "code",
   "execution_count": 8,
   "metadata": {},
   "outputs": [
    {
     "data": {
      "text/plain": [
       "array([[1.        , 0.36644682, 0.        ],\n",
       "       [0.36644682, 1.        , 0.        ],\n",
       "       [0.        , 0.        , 1.        ]])"
      ]
     },
     "execution_count": 8,
     "metadata": {},
     "output_type": "execute_result"
    }
   ],
   "source": [
    "cosine_similarity(X)"
   ]
  },
  {
   "cell_type": "code",
   "execution_count": 9,
   "metadata": {},
   "outputs": [
    {
     "data": {
      "text/plain": [
       "array([[0.        , 0.63355318, 1.        ],\n",
       "       [0.63355318, 0.        , 1.        ],\n",
       "       [1.        , 1.        , 0.        ]])"
      ]
     },
     "execution_count": 9,
     "metadata": {},
     "output_type": "execute_result"
    }
   ],
   "source": [
    "cosine_distances(X)"
   ]
  },
  {
   "cell_type": "code",
   "execution_count": 19,
   "metadata": {},
   "outputs": [],
   "source": [
    "import pandas as pd"
   ]
  },
  {
   "cell_type": "code",
   "execution_count": 20,
   "metadata": {},
   "outputs": [
    {
     "data": {
      "text/html": [
       "<div>\n",
       "<style scoped>\n",
       "    .dataframe tbody tr th:only-of-type {\n",
       "        vertical-align: middle;\n",
       "    }\n",
       "\n",
       "    .dataframe tbody tr th {\n",
       "        vertical-align: top;\n",
       "    }\n",
       "\n",
       "    .dataframe thead th {\n",
       "        text-align: right;\n",
       "    }\n",
       "</style>\n",
       "<table border=\"1\" class=\"dataframe\">\n",
       "  <thead>\n",
       "    <tr style=\"text-align: right;\">\n",
       "      <th></th>\n",
       "      <th>movie_id</th>\n",
       "      <th>description</th>\n",
       "      <th>language</th>\n",
       "      <th>released</th>\n",
       "      <th>rating</th>\n",
       "      <th>writer</th>\n",
       "      <th>director</th>\n",
       "      <th>cast</th>\n",
       "      <th>genre</th>\n",
       "      <th>name</th>\n",
       "    </tr>\n",
       "  </thead>\n",
       "  <tbody>\n",
       "    <tr>\n",
       "      <th>0</th>\n",
       "      <td>tt5286444</td>\n",
       "      <td>Neerja is the story of the courageous Neerja B...</td>\n",
       "      <td>[ \"Hindi\" ]</td>\n",
       "      <td>2016-02-19T00:00:00.000Z</td>\n",
       "      <td>7.9</td>\n",
       "      <td>[ \"Saiwyn Quadras\", \"Sanyukta Shaikh Chawla\" ]</td>\n",
       "      <td>[ \"Ram Madhvani\" ]</td>\n",
       "      <td>[ \"Sonam Kapoor\", \"Shabana Azmi\", \"Yogendra Ti...</td>\n",
       "      <td>[ \"Biography\", \"Drama\", \"Thriller\" ]</td>\n",
       "      <td>Neerja</td>\n",
       "    </tr>\n",
       "    <tr>\n",
       "      <th>1</th>\n",
       "      <td>tt4434004</td>\n",
       "      <td>A story that revolves around drug abuse in the...</td>\n",
       "      <td>[ \"Hindi\", \"Panjabi\" ]</td>\n",
       "      <td>2016-06-17T00:00:00.000Z</td>\n",
       "      <td>7.9</td>\n",
       "      <td>[ \"Sudip Sharma\", \"Abhishek Chaubey\" ]</td>\n",
       "      <td>[ \"Abhishek Chaubey\" ]</td>\n",
       "      <td>[ \"Alia Bhatt\", \"Shahid Kapoor\", \"Diljit Dosan...</td>\n",
       "      <td>[ \"Crime\", \"Drama\", \"Thriller\" ]</td>\n",
       "      <td>Udta Punjab</td>\n",
       "    </tr>\n",
       "    <tr>\n",
       "      <th>2</th>\n",
       "      <td>tt0248126</td>\n",
       "      <td>Yashvardhan Raichand lives a very wealthy life...</td>\n",
       "      <td>[ \"Hindi\", \"English\", \"Urdu\" ]</td>\n",
       "      <td>2001-12-14T00:00:00.000Z</td>\n",
       "      <td>7.5</td>\n",
       "      <td>[ \"Karan Johar\", \"Sheena Parikh\" ]</td>\n",
       "      <td>[ \"Karan Johar\" ]</td>\n",
       "      <td>[ \"Amitabh Bachchan\", \"Jaya Bhaduri\", \"Shah Ru...</td>\n",
       "      <td>[ \"Drama\", \"Musical\", \"Romance\" ]</td>\n",
       "      <td>Kabhi Khushi Kabhie Gham...</td>\n",
       "    </tr>\n",
       "    <tr>\n",
       "      <th>3</th>\n",
       "      <td>tt0347304</td>\n",
       "      <td>Naina, an introverted, perpetually depressed g...</td>\n",
       "      <td>[ \"Hindi\", \"Urdu\", \"Gujarati\", \"Panjabi\" ]</td>\n",
       "      <td>2003-11-28T00:00:00.000Z</td>\n",
       "      <td>8.0</td>\n",
       "      <td>[ \"Niranjan Iyengar\", \"Karan Johar\" ]</td>\n",
       "      <td>[ \"Nikkhil Advani\" ]</td>\n",
       "      <td>[ \"Shah Rukh Khan\", \"Preity Zinta\", \"Saif Ali ...</td>\n",
       "      <td>[ \"Comedy\", \"Drama\", \"Romance\" ]</td>\n",
       "      <td>Kal Ho Naa Ho</td>\n",
       "    </tr>\n",
       "    <tr>\n",
       "      <th>4</th>\n",
       "      <td>tt3043252</td>\n",
       "      <td>'Parched' is a story about women set in the he...</td>\n",
       "      <td>[ \"Hindi\", \"English\" ]</td>\n",
       "      <td>2016-06-17T00:00:00.000Z</td>\n",
       "      <td>7.6</td>\n",
       "      <td>[ \"Supratik Sen\", \"Leena Yadav\" ]</td>\n",
       "      <td>[ \"Leena Yadav\" ]</td>\n",
       "      <td>[ \"Tannishtha Chatterjee\", \"Radhika Apte\", \"Le...</td>\n",
       "      <td>[ \"Drama\" ]</td>\n",
       "      <td>Parched</td>\n",
       "    </tr>\n",
       "    <tr>\n",
       "      <th>...</th>\n",
       "      <td>...</td>\n",
       "      <td>...</td>\n",
       "      <td>...</td>\n",
       "      <td>...</td>\n",
       "      <td>...</td>\n",
       "      <td>...</td>\n",
       "      <td>...</td>\n",
       "      <td>...</td>\n",
       "      <td>...</td>\n",
       "      <td>...</td>\n",
       "    </tr>\n",
       "    <tr>\n",
       "      <th>2845</th>\n",
       "      <td>tt0308793</td>\n",
       "      <td>NaN</td>\n",
       "      <td>[ \"Kannada\" ]</td>\n",
       "      <td>NaN</td>\n",
       "      <td>7.7</td>\n",
       "      <td>[]</td>\n",
       "      <td>[ \"V. Ravichandran\" ]</td>\n",
       "      <td>[ \"V. Ravichandran\", \"Kushboo\", \"Anant Nag\", \"...</td>\n",
       "      <td>[ \"Crime\" ]</td>\n",
       "      <td>Ranadheera</td>\n",
       "    </tr>\n",
       "    <tr>\n",
       "      <th>2846</th>\n",
       "      <td>tt3006508</td>\n",
       "      <td>NaN</td>\n",
       "      <td>[ \"Kannada\" ]</td>\n",
       "      <td>2013-02-22</td>\n",
       "      <td>7.7</td>\n",
       "      <td>[]</td>\n",
       "      <td>[ \"Nagashekar\" ]</td>\n",
       "      <td>[ \"Chethan Kumar\", \"Nithya Menon\", \"Sarath Kum...</td>\n",
       "      <td>[ \"Romance\" ]</td>\n",
       "      <td>Myna</td>\n",
       "    </tr>\n",
       "    <tr>\n",
       "      <th>2847</th>\n",
       "      <td>tt5348692</td>\n",
       "      <td>The plot is simple. Ranganna (Rangayana Raghu)...</td>\n",
       "      <td>[ \"Kannada\" ]</td>\n",
       "      <td>2013-11-29</td>\n",
       "      <td>7.7</td>\n",
       "      <td>[ \"Pc Shekhar\" ]</td>\n",
       "      <td>[ \"Pc Shekhar\" ]</td>\n",
       "      <td>[ \"Rangayana Raghu\", \"Sadhu Kokila\", \"Avinash\" ]</td>\n",
       "      <td>[ \"Comedy\", \"Drama\" ]</td>\n",
       "      <td>Chaddi Dosth</td>\n",
       "    </tr>\n",
       "    <tr>\n",
       "      <th>2848</th>\n",
       "      <td>tt3171754</td>\n",
       "      <td>NaN</td>\n",
       "      <td>[ \"Kannada\" ]</td>\n",
       "      <td>2013-12-27</td>\n",
       "      <td>7.6</td>\n",
       "      <td>[]</td>\n",
       "      <td>[ \"Manju Swaraj\" ]</td>\n",
       "      <td>[ \"Ganesh\", \"Amulya\", \"Anant Nag\", \"Tara\", \"Av...</td>\n",
       "      <td>[ \"Comedy\", \"Romance\" ]</td>\n",
       "      <td>Shravani Subramanya</td>\n",
       "    </tr>\n",
       "    <tr>\n",
       "      <th>2849</th>\n",
       "      <td>tt0231455</td>\n",
       "      <td>NaN</td>\n",
       "      <td>[ \"Kannada\" ]</td>\n",
       "      <td>NaN</td>\n",
       "      <td>7.5</td>\n",
       "      <td>[]</td>\n",
       "      <td>[ \"S.R. Puttana Kanagal\" ]</td>\n",
       "      <td>[]</td>\n",
       "      <td>[]</td>\n",
       "      <td>Dharmasere</td>\n",
       "    </tr>\n",
       "  </tbody>\n",
       "</table>\n",
       "<p>2850 rows × 10 columns</p>\n",
       "</div>"
      ],
      "text/plain": [
       "       movie_id                                        description  \\\n",
       "0     tt5286444  Neerja is the story of the courageous Neerja B...   \n",
       "1     tt4434004  A story that revolves around drug abuse in the...   \n",
       "2     tt0248126  Yashvardhan Raichand lives a very wealthy life...   \n",
       "3     tt0347304  Naina, an introverted, perpetually depressed g...   \n",
       "4     tt3043252  'Parched' is a story about women set in the he...   \n",
       "...         ...                                                ...   \n",
       "2845  tt0308793                                                NaN   \n",
       "2846  tt3006508                                                NaN   \n",
       "2847  tt5348692  The plot is simple. Ranganna (Rangayana Raghu)...   \n",
       "2848  tt3171754                                                NaN   \n",
       "2849  tt0231455                                                NaN   \n",
       "\n",
       "                                        language                  released  \\\n",
       "0                                    [ \"Hindi\" ]  2016-02-19T00:00:00.000Z   \n",
       "1                         [ \"Hindi\", \"Panjabi\" ]  2016-06-17T00:00:00.000Z   \n",
       "2                 [ \"Hindi\", \"English\", \"Urdu\" ]  2001-12-14T00:00:00.000Z   \n",
       "3     [ \"Hindi\", \"Urdu\", \"Gujarati\", \"Panjabi\" ]  2003-11-28T00:00:00.000Z   \n",
       "4                         [ \"Hindi\", \"English\" ]  2016-06-17T00:00:00.000Z   \n",
       "...                                          ...                       ...   \n",
       "2845                               [ \"Kannada\" ]                       NaN   \n",
       "2846                               [ \"Kannada\" ]                2013-02-22   \n",
       "2847                               [ \"Kannada\" ]                2013-11-29   \n",
       "2848                               [ \"Kannada\" ]                2013-12-27   \n",
       "2849                               [ \"Kannada\" ]                       NaN   \n",
       "\n",
       "      rating                                          writer  \\\n",
       "0        7.9  [ \"Saiwyn Quadras\", \"Sanyukta Shaikh Chawla\" ]   \n",
       "1        7.9          [ \"Sudip Sharma\", \"Abhishek Chaubey\" ]   \n",
       "2        7.5              [ \"Karan Johar\", \"Sheena Parikh\" ]   \n",
       "3        8.0           [ \"Niranjan Iyengar\", \"Karan Johar\" ]   \n",
       "4        7.6               [ \"Supratik Sen\", \"Leena Yadav\" ]   \n",
       "...      ...                                             ...   \n",
       "2845     7.7                                              []   \n",
       "2846     7.7                                              []   \n",
       "2847     7.7                                [ \"Pc Shekhar\" ]   \n",
       "2848     7.6                                              []   \n",
       "2849     7.5                                              []   \n",
       "\n",
       "                        director  \\\n",
       "0             [ \"Ram Madhvani\" ]   \n",
       "1         [ \"Abhishek Chaubey\" ]   \n",
       "2              [ \"Karan Johar\" ]   \n",
       "3           [ \"Nikkhil Advani\" ]   \n",
       "4              [ \"Leena Yadav\" ]   \n",
       "...                          ...   \n",
       "2845       [ \"V. Ravichandran\" ]   \n",
       "2846            [ \"Nagashekar\" ]   \n",
       "2847            [ \"Pc Shekhar\" ]   \n",
       "2848          [ \"Manju Swaraj\" ]   \n",
       "2849  [ \"S.R. Puttana Kanagal\" ]   \n",
       "\n",
       "                                                   cast  \\\n",
       "0     [ \"Sonam Kapoor\", \"Shabana Azmi\", \"Yogendra Ti...   \n",
       "1     [ \"Alia Bhatt\", \"Shahid Kapoor\", \"Diljit Dosan...   \n",
       "2     [ \"Amitabh Bachchan\", \"Jaya Bhaduri\", \"Shah Ru...   \n",
       "3     [ \"Shah Rukh Khan\", \"Preity Zinta\", \"Saif Ali ...   \n",
       "4     [ \"Tannishtha Chatterjee\", \"Radhika Apte\", \"Le...   \n",
       "...                                                 ...   \n",
       "2845  [ \"V. Ravichandran\", \"Kushboo\", \"Anant Nag\", \"...   \n",
       "2846  [ \"Chethan Kumar\", \"Nithya Menon\", \"Sarath Kum...   \n",
       "2847   [ \"Rangayana Raghu\", \"Sadhu Kokila\", \"Avinash\" ]   \n",
       "2848  [ \"Ganesh\", \"Amulya\", \"Anant Nag\", \"Tara\", \"Av...   \n",
       "2849                                                 []   \n",
       "\n",
       "                                     genre                         name  \n",
       "0     [ \"Biography\", \"Drama\", \"Thriller\" ]                       Neerja  \n",
       "1         [ \"Crime\", \"Drama\", \"Thriller\" ]                  Udta Punjab  \n",
       "2        [ \"Drama\", \"Musical\", \"Romance\" ]  Kabhi Khushi Kabhie Gham...  \n",
       "3         [ \"Comedy\", \"Drama\", \"Romance\" ]                Kal Ho Naa Ho  \n",
       "4                              [ \"Drama\" ]                      Parched  \n",
       "...                                    ...                          ...  \n",
       "2845                           [ \"Crime\" ]                   Ranadheera  \n",
       "2846                         [ \"Romance\" ]                         Myna  \n",
       "2847                 [ \"Comedy\", \"Drama\" ]                 Chaddi Dosth  \n",
       "2848               [ \"Comedy\", \"Romance\" ]          Shravani Subramanya  \n",
       "2849                                    []                   Dharmasere  \n",
       "\n",
       "[2850 rows x 10 columns]"
      ]
     },
     "execution_count": 20,
     "metadata": {},
     "output_type": "execute_result"
    }
   ],
   "source": [
    "df=pd.read_csv(\"d:/dataset/recommend/movies_content.csv\")\n",
    "df"
   ]
  },
  {
   "cell_type": "code",
   "execution_count": 21,
   "metadata": {},
   "outputs": [],
   "source": [
    "df2=df[['name','rating','description']]"
   ]
  },
  {
   "cell_type": "code",
   "execution_count": 22,
   "metadata": {},
   "outputs": [
    {
     "data": {
      "text/html": [
       "<div>\n",
       "<style scoped>\n",
       "    .dataframe tbody tr th:only-of-type {\n",
       "        vertical-align: middle;\n",
       "    }\n",
       "\n",
       "    .dataframe tbody tr th {\n",
       "        vertical-align: top;\n",
       "    }\n",
       "\n",
       "    .dataframe thead th {\n",
       "        text-align: right;\n",
       "    }\n",
       "</style>\n",
       "<table border=\"1\" class=\"dataframe\">\n",
       "  <thead>\n",
       "    <tr style=\"text-align: right;\">\n",
       "      <th></th>\n",
       "      <th>name</th>\n",
       "      <th>rating</th>\n",
       "      <th>description</th>\n",
       "    </tr>\n",
       "  </thead>\n",
       "  <tbody>\n",
       "    <tr>\n",
       "      <th>0</th>\n",
       "      <td>Neerja</td>\n",
       "      <td>7.9</td>\n",
       "      <td>Neerja is the story of the courageous Neerja B...</td>\n",
       "    </tr>\n",
       "    <tr>\n",
       "      <th>1</th>\n",
       "      <td>Udta Punjab</td>\n",
       "      <td>7.9</td>\n",
       "      <td>A story that revolves around drug abuse in the...</td>\n",
       "    </tr>\n",
       "    <tr>\n",
       "      <th>2</th>\n",
       "      <td>Kabhi Khushi Kabhie Gham...</td>\n",
       "      <td>7.5</td>\n",
       "      <td>Yashvardhan Raichand lives a very wealthy life...</td>\n",
       "    </tr>\n",
       "    <tr>\n",
       "      <th>3</th>\n",
       "      <td>Kal Ho Naa Ho</td>\n",
       "      <td>8.0</td>\n",
       "      <td>Naina, an introverted, perpetually depressed g...</td>\n",
       "    </tr>\n",
       "    <tr>\n",
       "      <th>4</th>\n",
       "      <td>Parched</td>\n",
       "      <td>7.6</td>\n",
       "      <td>'Parched' is a story about women set in the he...</td>\n",
       "    </tr>\n",
       "    <tr>\n",
       "      <th>...</th>\n",
       "      <td>...</td>\n",
       "      <td>...</td>\n",
       "      <td>...</td>\n",
       "    </tr>\n",
       "    <tr>\n",
       "      <th>2845</th>\n",
       "      <td>Ranadheera</td>\n",
       "      <td>7.7</td>\n",
       "      <td>NaN</td>\n",
       "    </tr>\n",
       "    <tr>\n",
       "      <th>2846</th>\n",
       "      <td>Myna</td>\n",
       "      <td>7.7</td>\n",
       "      <td>NaN</td>\n",
       "    </tr>\n",
       "    <tr>\n",
       "      <th>2847</th>\n",
       "      <td>Chaddi Dosth</td>\n",
       "      <td>7.7</td>\n",
       "      <td>The plot is simple. Ranganna (Rangayana Raghu)...</td>\n",
       "    </tr>\n",
       "    <tr>\n",
       "      <th>2848</th>\n",
       "      <td>Shravani Subramanya</td>\n",
       "      <td>7.6</td>\n",
       "      <td>NaN</td>\n",
       "    </tr>\n",
       "    <tr>\n",
       "      <th>2849</th>\n",
       "      <td>Dharmasere</td>\n",
       "      <td>7.5</td>\n",
       "      <td>NaN</td>\n",
       "    </tr>\n",
       "  </tbody>\n",
       "</table>\n",
       "<p>2850 rows × 3 columns</p>\n",
       "</div>"
      ],
      "text/plain": [
       "                             name  rating  \\\n",
       "0                          Neerja     7.9   \n",
       "1                     Udta Punjab     7.9   \n",
       "2     Kabhi Khushi Kabhie Gham...     7.5   \n",
       "3                   Kal Ho Naa Ho     8.0   \n",
       "4                         Parched     7.6   \n",
       "...                           ...     ...   \n",
       "2845                   Ranadheera     7.7   \n",
       "2846                         Myna     7.7   \n",
       "2847                 Chaddi Dosth     7.7   \n",
       "2848          Shravani Subramanya     7.6   \n",
       "2849                   Dharmasere     7.5   \n",
       "\n",
       "                                            description  \n",
       "0     Neerja is the story of the courageous Neerja B...  \n",
       "1     A story that revolves around drug abuse in the...  \n",
       "2     Yashvardhan Raichand lives a very wealthy life...  \n",
       "3     Naina, an introverted, perpetually depressed g...  \n",
       "4     'Parched' is a story about women set in the he...  \n",
       "...                                                 ...  \n",
       "2845                                                NaN  \n",
       "2846                                                NaN  \n",
       "2847  The plot is simple. Ranganna (Rangayana Raghu)...  \n",
       "2848                                                NaN  \n",
       "2849                                                NaN  \n",
       "\n",
       "[2850 rows x 3 columns]"
      ]
     },
     "execution_count": 22,
     "metadata": {},
     "output_type": "execute_result"
    }
   ],
   "source": [
    "df2"
   ]
  },
  {
   "cell_type": "code",
   "execution_count": 23,
   "metadata": {},
   "outputs": [
    {
     "name": "stderr",
     "output_type": "stream",
     "text": [
      "C:\\Users\\Aditya Sir\\anaconda3\\lib\\site-packages\\pandas\\util\\_decorators.py:311: SettingWithCopyWarning: \n",
      "A value is trying to be set on a copy of a slice from a DataFrame\n",
      "\n",
      "See the caveats in the documentation: https://pandas.pydata.org/pandas-docs/stable/user_guide/indexing.html#returning-a-view-versus-a-copy\n",
      "  return func(*args, **kwargs)\n"
     ]
    }
   ],
   "source": [
    "df2.dropna(inplace=True)"
   ]
  },
  {
   "cell_type": "code",
   "execution_count": 24,
   "metadata": {},
   "outputs": [
    {
     "data": {
      "text/html": [
       "<div>\n",
       "<style scoped>\n",
       "    .dataframe tbody tr th:only-of-type {\n",
       "        vertical-align: middle;\n",
       "    }\n",
       "\n",
       "    .dataframe tbody tr th {\n",
       "        vertical-align: top;\n",
       "    }\n",
       "\n",
       "    .dataframe thead th {\n",
       "        text-align: right;\n",
       "    }\n",
       "</style>\n",
       "<table border=\"1\" class=\"dataframe\">\n",
       "  <thead>\n",
       "    <tr style=\"text-align: right;\">\n",
       "      <th></th>\n",
       "      <th>name</th>\n",
       "      <th>rating</th>\n",
       "      <th>description</th>\n",
       "    </tr>\n",
       "  </thead>\n",
       "  <tbody>\n",
       "    <tr>\n",
       "      <th>0</th>\n",
       "      <td>Neerja</td>\n",
       "      <td>7.9</td>\n",
       "      <td>Neerja is the story of the courageous Neerja B...</td>\n",
       "    </tr>\n",
       "    <tr>\n",
       "      <th>1</th>\n",
       "      <td>Udta Punjab</td>\n",
       "      <td>7.9</td>\n",
       "      <td>A story that revolves around drug abuse in the...</td>\n",
       "    </tr>\n",
       "    <tr>\n",
       "      <th>2</th>\n",
       "      <td>Kabhi Khushi Kabhie Gham...</td>\n",
       "      <td>7.5</td>\n",
       "      <td>Yashvardhan Raichand lives a very wealthy life...</td>\n",
       "    </tr>\n",
       "    <tr>\n",
       "      <th>3</th>\n",
       "      <td>Kal Ho Naa Ho</td>\n",
       "      <td>8.0</td>\n",
       "      <td>Naina, an introverted, perpetually depressed g...</td>\n",
       "    </tr>\n",
       "    <tr>\n",
       "      <th>4</th>\n",
       "      <td>Parched</td>\n",
       "      <td>7.6</td>\n",
       "      <td>'Parched' is a story about women set in the he...</td>\n",
       "    </tr>\n",
       "    <tr>\n",
       "      <th>...</th>\n",
       "      <td>...</td>\n",
       "      <td>...</td>\n",
       "      <td>...</td>\n",
       "    </tr>\n",
       "    <tr>\n",
       "      <th>2838</th>\n",
       "      <td>Run Antony</td>\n",
       "      <td>7.7</td>\n",
       "      <td>Antony is depressed and wants to commit suicid...</td>\n",
       "    </tr>\n",
       "    <tr>\n",
       "      <th>2841</th>\n",
       "      <td>Jolly Days</td>\n",
       "      <td>7.7</td>\n",
       "      <td>A bubbly tale, the story is about four pairs o...</td>\n",
       "    </tr>\n",
       "    <tr>\n",
       "      <th>2842</th>\n",
       "      <td>The Great Story of Sodabuddi</td>\n",
       "      <td>7.7</td>\n",
       "      <td>The film tells the story of Sodabuddi, who spe...</td>\n",
       "    </tr>\n",
       "    <tr>\n",
       "      <th>2844</th>\n",
       "      <td>Vamshi</td>\n",
       "      <td>7.7</td>\n",
       "      <td>Vamshi, under the eye of his mother is living ...</td>\n",
       "    </tr>\n",
       "    <tr>\n",
       "      <th>2847</th>\n",
       "      <td>Chaddi Dosth</td>\n",
       "      <td>7.7</td>\n",
       "      <td>The plot is simple. Ranganna (Rangayana Raghu)...</td>\n",
       "    </tr>\n",
       "  </tbody>\n",
       "</table>\n",
       "<p>1752 rows × 3 columns</p>\n",
       "</div>"
      ],
      "text/plain": [
       "                              name  rating  \\\n",
       "0                           Neerja     7.9   \n",
       "1                      Udta Punjab     7.9   \n",
       "2      Kabhi Khushi Kabhie Gham...     7.5   \n",
       "3                    Kal Ho Naa Ho     8.0   \n",
       "4                          Parched     7.6   \n",
       "...                            ...     ...   \n",
       "2838                    Run Antony     7.7   \n",
       "2841                    Jolly Days     7.7   \n",
       "2842  The Great Story of Sodabuddi     7.7   \n",
       "2844                        Vamshi     7.7   \n",
       "2847                  Chaddi Dosth     7.7   \n",
       "\n",
       "                                            description  \n",
       "0     Neerja is the story of the courageous Neerja B...  \n",
       "1     A story that revolves around drug abuse in the...  \n",
       "2     Yashvardhan Raichand lives a very wealthy life...  \n",
       "3     Naina, an introverted, perpetually depressed g...  \n",
       "4     'Parched' is a story about women set in the he...  \n",
       "...                                                 ...  \n",
       "2838  Antony is depressed and wants to commit suicid...  \n",
       "2841  A bubbly tale, the story is about four pairs o...  \n",
       "2842  The film tells the story of Sodabuddi, who spe...  \n",
       "2844  Vamshi, under the eye of his mother is living ...  \n",
       "2847  The plot is simple. Ranganna (Rangayana Raghu)...  \n",
       "\n",
       "[1752 rows x 3 columns]"
      ]
     },
     "execution_count": 24,
     "metadata": {},
     "output_type": "execute_result"
    }
   ],
   "source": [
    "df2"
   ]
  },
  {
   "cell_type": "code",
   "execution_count": 26,
   "metadata": {},
   "outputs": [],
   "source": [
    "df2.reset_index(drop=True,inplace=True)"
   ]
  },
  {
   "cell_type": "code",
   "execution_count": 27,
   "metadata": {},
   "outputs": [
    {
     "data": {
      "text/html": [
       "<div>\n",
       "<style scoped>\n",
       "    .dataframe tbody tr th:only-of-type {\n",
       "        vertical-align: middle;\n",
       "    }\n",
       "\n",
       "    .dataframe tbody tr th {\n",
       "        vertical-align: top;\n",
       "    }\n",
       "\n",
       "    .dataframe thead th {\n",
       "        text-align: right;\n",
       "    }\n",
       "</style>\n",
       "<table border=\"1\" class=\"dataframe\">\n",
       "  <thead>\n",
       "    <tr style=\"text-align: right;\">\n",
       "      <th></th>\n",
       "      <th>name</th>\n",
       "      <th>rating</th>\n",
       "      <th>description</th>\n",
       "    </tr>\n",
       "  </thead>\n",
       "  <tbody>\n",
       "    <tr>\n",
       "      <th>0</th>\n",
       "      <td>Neerja</td>\n",
       "      <td>7.9</td>\n",
       "      <td>Neerja is the story of the courageous Neerja B...</td>\n",
       "    </tr>\n",
       "    <tr>\n",
       "      <th>1</th>\n",
       "      <td>Udta Punjab</td>\n",
       "      <td>7.9</td>\n",
       "      <td>A story that revolves around drug abuse in the...</td>\n",
       "    </tr>\n",
       "    <tr>\n",
       "      <th>2</th>\n",
       "      <td>Kabhi Khushi Kabhie Gham...</td>\n",
       "      <td>7.5</td>\n",
       "      <td>Yashvardhan Raichand lives a very wealthy life...</td>\n",
       "    </tr>\n",
       "    <tr>\n",
       "      <th>3</th>\n",
       "      <td>Kal Ho Naa Ho</td>\n",
       "      <td>8.0</td>\n",
       "      <td>Naina, an introverted, perpetually depressed g...</td>\n",
       "    </tr>\n",
       "    <tr>\n",
       "      <th>4</th>\n",
       "      <td>Parched</td>\n",
       "      <td>7.6</td>\n",
       "      <td>'Parched' is a story about women set in the he...</td>\n",
       "    </tr>\n",
       "    <tr>\n",
       "      <th>...</th>\n",
       "      <td>...</td>\n",
       "      <td>...</td>\n",
       "      <td>...</td>\n",
       "    </tr>\n",
       "    <tr>\n",
       "      <th>1747</th>\n",
       "      <td>Run Antony</td>\n",
       "      <td>7.7</td>\n",
       "      <td>Antony is depressed and wants to commit suicid...</td>\n",
       "    </tr>\n",
       "    <tr>\n",
       "      <th>1748</th>\n",
       "      <td>Jolly Days</td>\n",
       "      <td>7.7</td>\n",
       "      <td>A bubbly tale, the story is about four pairs o...</td>\n",
       "    </tr>\n",
       "    <tr>\n",
       "      <th>1749</th>\n",
       "      <td>The Great Story of Sodabuddi</td>\n",
       "      <td>7.7</td>\n",
       "      <td>The film tells the story of Sodabuddi, who spe...</td>\n",
       "    </tr>\n",
       "    <tr>\n",
       "      <th>1750</th>\n",
       "      <td>Vamshi</td>\n",
       "      <td>7.7</td>\n",
       "      <td>Vamshi, under the eye of his mother is living ...</td>\n",
       "    </tr>\n",
       "    <tr>\n",
       "      <th>1751</th>\n",
       "      <td>Chaddi Dosth</td>\n",
       "      <td>7.7</td>\n",
       "      <td>The plot is simple. Ranganna (Rangayana Raghu)...</td>\n",
       "    </tr>\n",
       "  </tbody>\n",
       "</table>\n",
       "<p>1752 rows × 3 columns</p>\n",
       "</div>"
      ],
      "text/plain": [
       "                              name  rating  \\\n",
       "0                           Neerja     7.9   \n",
       "1                      Udta Punjab     7.9   \n",
       "2      Kabhi Khushi Kabhie Gham...     7.5   \n",
       "3                    Kal Ho Naa Ho     8.0   \n",
       "4                          Parched     7.6   \n",
       "...                            ...     ...   \n",
       "1747                    Run Antony     7.7   \n",
       "1748                    Jolly Days     7.7   \n",
       "1749  The Great Story of Sodabuddi     7.7   \n",
       "1750                        Vamshi     7.7   \n",
       "1751                  Chaddi Dosth     7.7   \n",
       "\n",
       "                                            description  \n",
       "0     Neerja is the story of the courageous Neerja B...  \n",
       "1     A story that revolves around drug abuse in the...  \n",
       "2     Yashvardhan Raichand lives a very wealthy life...  \n",
       "3     Naina, an introverted, perpetually depressed g...  \n",
       "4     'Parched' is a story about women set in the he...  \n",
       "...                                                 ...  \n",
       "1747  Antony is depressed and wants to commit suicid...  \n",
       "1748  A bubbly tale, the story is about four pairs o...  \n",
       "1749  The film tells the story of Sodabuddi, who spe...  \n",
       "1750  Vamshi, under the eye of his mother is living ...  \n",
       "1751  The plot is simple. Ranganna (Rangayana Raghu)...  \n",
       "\n",
       "[1752 rows x 3 columns]"
      ]
     },
     "execution_count": 27,
     "metadata": {},
     "output_type": "execute_result"
    }
   ],
   "source": [
    "df2"
   ]
  },
  {
   "cell_type": "code",
   "execution_count": 29,
   "metadata": {},
   "outputs": [],
   "source": [
    "tv=TfidfVectorizer(lowercase=True,stop_words='english')\n",
    "X=tv.fit_transform(df2.description).toarray()"
   ]
  },
  {
   "cell_type": "code",
   "execution_count": 30,
   "metadata": {},
   "outputs": [
    {
     "data": {
      "text/plain": [
       "(1752, 7702)"
      ]
     },
     "execution_count": 30,
     "metadata": {},
     "output_type": "execute_result"
    }
   ],
   "source": [
    "X.shape"
   ]
  },
  {
   "cell_type": "code",
   "execution_count": 31,
   "metadata": {},
   "outputs": [
    {
     "data": {
      "text/plain": [
       "array([0., 0., 0., ..., 0., 0., 0.])"
      ]
     },
     "execution_count": 31,
     "metadata": {},
     "output_type": "execute_result"
    }
   ],
   "source": [
    "X[0]"
   ]
  },
  {
   "cell_type": "code",
   "execution_count": 32,
   "metadata": {},
   "outputs": [
    {
     "data": {
      "text/plain": [
       "array([0., 0., 0., ..., 0., 0., 0.])"
      ]
     },
     "execution_count": 32,
     "metadata": {},
     "output_type": "execute_result"
    }
   ],
   "source": [
    "X[1]"
   ]
  },
  {
   "cell_type": "code",
   "execution_count": 34,
   "metadata": {},
   "outputs": [],
   "source": [
    "from sklearn.neighbors import NearestNeighbors"
   ]
  },
  {
   "cell_type": "code",
   "execution_count": 37,
   "metadata": {},
   "outputs": [
    {
     "data": {
      "text/plain": [
       "NearestNeighbors(metric='cosine')"
      ]
     },
     "execution_count": 37,
     "metadata": {},
     "output_type": "execute_result"
    }
   ],
   "source": [
    "model=NearestNeighbors(metric='cosine')#internally computes cosine distances\n",
    "model.fit(X)"
   ]
  },
  {
   "cell_type": "code",
   "execution_count": 39,
   "metadata": {},
   "outputs": [],
   "source": [
    "#name=\"Udta Punjab\"\n",
    "distances,positions=model.kneighbors([X[1]],n_neighbors=4)"
   ]
  },
  {
   "cell_type": "code",
   "execution_count": 40,
   "metadata": {},
   "outputs": [
    {
     "data": {
      "text/plain": [
       "array([[0.        , 0.86928008, 0.8720282 , 0.87464153]])"
      ]
     },
     "execution_count": 40,
     "metadata": {},
     "output_type": "execute_result"
    }
   ],
   "source": [
    "distances"
   ]
  },
  {
   "cell_type": "code",
   "execution_count": 41,
   "metadata": {},
   "outputs": [
    {
     "data": {
      "text/plain": [
       "array([[  1, 848, 861, 361]], dtype=int64)"
      ]
     },
     "execution_count": 41,
     "metadata": {},
     "output_type": "execute_result"
    }
   ],
   "source": [
    "positions"
   ]
  },
  {
   "cell_type": "code",
   "execution_count": 42,
   "metadata": {},
   "outputs": [
    {
     "data": {
      "text/plain": [
       "array([0., 0., 0., ..., 0., 0., 0.])"
      ]
     },
     "execution_count": 42,
     "metadata": {},
     "output_type": "execute_result"
    }
   ],
   "source": [
    "X[1]"
   ]
  },
  {
   "cell_type": "code",
   "execution_count": 43,
   "metadata": {},
   "outputs": [
    {
     "data": {
      "text/plain": [
       "array([0., 0., 0., ..., 0., 0., 0.])"
      ]
     },
     "execution_count": 43,
     "metadata": {},
     "output_type": "execute_result"
    }
   ],
   "source": [
    "X[848]"
   ]
  },
  {
   "cell_type": "code",
   "execution_count": 49,
   "metadata": {},
   "outputs": [
    {
     "data": {
      "text/plain": [
       "'Sikander'"
      ]
     },
     "execution_count": 49,
     "metadata": {},
     "output_type": "execute_result"
    }
   ],
   "source": [
    "df2.iloc[848].loc['name']"
   ]
  },
  {
   "cell_type": "code",
   "execution_count": 50,
   "metadata": {},
   "outputs": [
    {
     "data": {
      "text/plain": [
       "'Gelo'"
      ]
     },
     "execution_count": 50,
     "metadata": {},
     "output_type": "execute_result"
    }
   ],
   "source": [
    "df2.iloc[861].loc['name']"
   ]
  },
  {
   "cell_type": "code",
   "execution_count": 51,
   "metadata": {},
   "outputs": [
    {
     "data": {
      "text/plain": [
       "'Tiger'"
      ]
     },
     "execution_count": 51,
     "metadata": {},
     "output_type": "execute_result"
    }
   ],
   "source": [
    "df2.iloc[361].loc['name']"
   ]
  },
  {
   "cell_type": "code",
   "execution_count": 64,
   "metadata": {},
   "outputs": [
    {
     "name": "stdout",
     "output_type": "stream",
     "text": [
      "Neerja\n",
      "Enakkul Oru Devathai\n",
      "Khakee\n",
      "Vedam\n"
     ]
    }
   ],
   "source": [
    "mv_name=\"Neerja\"\n",
    "v=X[df2[df2.name==mv_name].index[0]]\n",
    "distances,positions=model.kneighbors([v],n_neighbors=4)\n",
    "for pos in positions[0]:\n",
    "    print(df2.iloc[pos].loc['name'])"
   ]
  },
  {
   "cell_type": "code",
   "execution_count": 68,
   "metadata": {},
   "outputs": [
    {
     "name": "stdout",
     "output_type": "stream",
     "text": [
      "Enakkul Oru Devathai\n",
      "Khakee\n",
      "Vedam\n",
      "Rikki-Tikki-Tavi\n",
      "Aamir\n"
     ]
    }
   ],
   "source": [
    "mv_name=\"Neerja\"\n",
    "v=X[df2[df2.name==mv_name].index[0]]\n",
    "distances,positions=model.kneighbors([v],n_neighbors=6)\n",
    "for pos in positions[0][1:]:\n",
    "    print(df2.iloc[pos].loc['name'])"
   ]
  },
  {
   "cell_type": "code",
   "execution_count": null,
   "metadata": {},
   "outputs": [],
   "source": []
  }
 ],
 "metadata": {
  "kernelspec": {
   "display_name": "Python 3",
   "language": "python",
   "name": "python3"
  },
  "language_info": {
   "codemirror_mode": {
    "name": "ipython",
    "version": 3
   },
   "file_extension": ".py",
   "mimetype": "text/x-python",
   "name": "python",
   "nbconvert_exporter": "python",
   "pygments_lexer": "ipython3",
   "version": "3.8.3"
  }
 },
 "nbformat": 4,
 "nbformat_minor": 5
}
